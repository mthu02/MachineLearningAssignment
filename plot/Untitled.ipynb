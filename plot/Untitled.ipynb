{
 "cells": [
  {
   "cell_type": "code",
   "execution_count": 354,
   "metadata": {},
   "outputs": [],
   "source": [
    "import matplotlib.pyplot as plt\n",
    "from matplotlib import cm\n",
    "import numpy as np\n",
    "import pandas as pd\n",
    "data = np.loadtxt('ex2data1.txt', delimiter=',')\n",
    "X = data[:, :2]\n",
    "\n",
    "Y = data[:, 2]\n",
    "m = len(Y)\n",
    "X_padded = np.hstack((np.ones((m, 1)), X))\n"
   ]
  },
  {
   "cell_type": "code",
   "execution_count": 355,
   "metadata": {},
   "outputs": [],
   "source": [
    "def plotData(X, Y):\n",
    "    m = len(Y)\n",
    "    #pos = np.where(Y == 1)\n",
    "    #neg = np.where(Y == 0)\n",
    "    \n",
    "    #plt.plot(X[pos, 0], X[pos, 1], 'go-', label='line 1', linewidth=2)\n",
    "    #plt.plot(X[neg, 0], X[neg, 1], 'ko')\n",
    "    for i in range(m):\n",
    "        if Y[i] == 0:\n",
    "            plt.plot(X[i, 0], X[i, 1], 'bo', label='line 1', linewidth=2)\n",
    "        else :\n",
    "            plt.plot(X[i, 0], X[i, 1], 'go', label='line 2', linewidth=2)\n",
    "    plt.show()"
   ]
  },
  {
   "cell_type": "code",
   "execution_count": 356,
   "metadata": {},
   "outputs": [
    {
     "data": {
      "image/png": "[encoded data removed]",
      "text/plain": [
       "<Figure size 432x288 with 1 Axes>"
      ]
     },
     "metadata": {
      "needs_background": "light"
     },
     "output_type": "display_data"
    }
   ],
   "source": [
    "plotData(X, Y)"
   ]
  },
  {
   "cell_type": "code",
   "execution_count": 357,
   "metadata": {},
   "outputs": [],
   "source": [
    "def normalEqn(X, y):\n",
    "    theta = np.zeros(X.shape[1], 1)\n",
    "    theta = np.linalg.pinv(np.tranpose(X).dot(X)).dot(np.tranpose(X).dot(y))\n",
    "    return theta\n"
   ]
  },
  {
   "cell_type": "code",
   "execution_count": 358,
   "metadata": {},
   "outputs": [],
   "source": [
    "import numpy as np\n",
    "def sigmoid(x):\n",
    "    h_x = 1/(1+np.exp(-x));\n",
    "    return h_x\n",
    "    "
   ]
  },
  {
   "cell_type": "code",
   "execution_count": 359,
   "metadata": {},
   "outputs": [],
   "source": [
    "def computeCost(theta, X, Y):\n",
    "    m = np.size(Y);\n",
    "    J = 0;\n",
    "    #grad_J = np.zeros(np.size(theta));\n",
    "    #theta1 = np.hstack((0, theta[1:]));\n",
    "    #s = (-Y * np.log(sigmoid(X*theta)) - (1 - Y) * np.log(1 - sigmoid(X*theta)))\n",
    "    J = (1/m) * np.sum((-Y * np.log(sigmoid(np.dot(X, theta))) - (1 - Y) * np.log(1 - sigmoid(np.dot(X, theta)))))\n",
    "    #grad_J = (1/m) * np.sum((sigmoid(X*theta) - Y) * X)\n",
    "    return J"
   ]
  },
  {
   "cell_type": "code",
   "execution_count": 360,
   "metadata": {},
   "outputs": [],
   "source": [
    "def gradientDescent(X, Y, theta, alpha, num_iters):\n",
    "    m = np.size(Y)\n",
    "    J_history = np.zeros((num_iters, 1))\n",
    "    cost_val = np.zeros((num_iters, 1))\n",
    "    for iter in range(num_iters):\n",
    "        theta = theta - (alpha/m) * (np.sum(np.dot((sigmoid(np.dot(X, theta)) - Y), X)))\n",
    "        cost_val[iter] = computeCost(X, Y, theta)\n",
    "        J_history[iter] = computeCost(X, Y, theta)\n",
    "    return theta"
   ]
  },
  {
   "cell_type": "code",
   "execution_count": 410,
   "metadata": {},
   "outputs": [
    {
     "name": "stderr",
     "output_type": "stream",
     "text": [
      "<ipython-input-359-26f4dd987c5f>:7: RuntimeWarning: divide by zero encountered in log\n",
      "  J = (1/m) * np.sum((-Y * np.log(sigmoid(np.dot(X, theta))) - (1 - Y) * np.log(1 - sigmoid(np.dot(X, theta)))))\n"
     ]
    },
    {
     "name": "stdout",
     "output_type": "stream",
     "text": [
      "0.6931471805599453\n"
     ]
    },
    {
     "data": {
      "image/png": "[encoded data removed]",
      "text/plain": [
       "<Figure size 432x288 with 1 Axes>"
      ]
     },
     "metadata": {
      "needs_background": "light"
     },
     "output_type": "display_data"
    },
    {
     "name": "stdout",
     "output_type": "stream",
     "text": [
      "[28.05882245, 101.8278578]\n",
      "[-29.058822449999997, -102.82785780000002]\n"
     ]
    },
    {
     "data": {
      "image/png": "[encoded data removed]",
      "text/plain": [
       "<Figure size 432x288 with 1 Axes>"
      ]
     },
     "metadata": {
      "needs_background": "light"
     },
     "output_type": "display_data"
    }
   ],
   "source": [
    "\n",
    "\n",
    "theta = np.zeros(3)\n",
    "\n",
    "\n",
    "num_iters = 1500\n",
    "alpha = 0.01\n",
    "\n",
    "J = computeCost(theta, X_padded, Y)\n",
    "\n",
    "theta = gradientDescent(X_padded, Y, theta, alpha, num_iters)\n",
    "\n",
    "print(J)\n",
    "\n",
    "plotDecisionBoundary(theta, X, Y)"
   ]
  },
  {
   "cell_type": "code",
   "execution_count": 408,
   "metadata": {},
   "outputs": [],
   "source": [
    "def plotDecisionBoundary(theta, X, Y):\n",
    "    plotData(X, Y)\n",
    "    plot_x = [min(X[:,0])-2,  max(X[:,0])+2]\n",
    "    print(plot_x)\n",
    "    plot_y =[(-1/theta[0]) *(theta[1]*plot_x[0] + theta[2]), (-1/theta[0]) *(theta[1]*plot_x[1] + theta[2])]\n",
    "    plt.plot(plot_x, plot_y)\n",
    "    print(plot_y)"
   ]
  },
  {
   "cell_type": "code",
   "execution_count": null,
   "metadata": {},
   "outputs": [],
   "source": []
  },
  {
   "cell_type": "code",
   "execution_count": null,
   "metadata": {},
   "outputs": [],
   "source": []
  },
  {
   "cell_type": "code",
   "execution_count": null,
   "metadata": {},
   "outputs": [],
   "source": []
  }
 ],
 "metadata": {
  "kernelspec": {
   "display_name": "Python 3",
   "language": "python",
   "name": "python3"
  },
  "language_info": {
   "codemirror_mode": {
    "name": "ipython",
    "version": 3
   },
   "file_extension": ".py",
   "mimetype": "text/x-python",
   "name": "python",
   "nbconvert_exporter": "python",
   "pygments_lexer": "ipython3",
   "version": "3.8.5"
  }
 },
 "nbformat": 4,
 "nbformat_minor": 4
}
