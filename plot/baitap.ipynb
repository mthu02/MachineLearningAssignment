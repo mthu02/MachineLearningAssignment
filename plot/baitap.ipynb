{
 "cells": [
  {
   "cell_type": "code",
   "execution_count": 1,
   "metadata": {},
   "outputs": [
    {
     "name": "stdout",
     "output_type": "stream",
     "text": [
      "(100, 1)\n"
     ]
    }
   ],
   "source": [
    "import matplotlib.pyplot as plt\n",
    "from matplotlib import cm\n",
    "import numpy as np\n",
    "import pandas as pd\n",
    "data = np.loadtxt('ex2data1.txt', delimiter=',')\n",
    "X = data[:, :2]\n",
    "Y = data[:, 2]\n",
    "Y = Y.reshape(100, 1)\n",
    "\n",
    "m = len(Y)\n",
    "X_padded = np.hstack((np.ones((m, 1)), X))\n"
   ]
  },
  {
   "cell_type": "code",
   "execution_count": 57,
   "metadata": {},
   "outputs": [],
   "source": [
    "def plotData(X, Y):\n",
    "    m = len(Y)\n",
    "    for i in range(m):\n",
    "        if Y[i] == 0:\n",
    "            plt.plot(X[i, 0], X[i, 1], 'bo', label='line 1', linewidth=2)\n",
    "        else :\n",
    "            plt.plot(X[i, 0], X[i, 1], 'go', label='line 2', linewidth=2)"
   ]
  },
  {
   "cell_type": "code",
   "execution_count": 58,
   "metadata": {},
   "outputs": [
    {
     "data": {
      "image/png": "[encoded data removed]",
      "text/plain": [
       "<Figure size 432x288 with 1 Axes>"
      ]
     },
     "metadata": {
      "needs_background": "light"
     },
     "output_type": "display_data"
    }
   ],
   "source": [
    "plotData(X, Y)"
   ]
  },
  {
   "cell_type": "code",
   "execution_count": 59,
   "metadata": {},
   "outputs": [],
   "source": [
    "def sigmoid(x):\n",
    "    h_x = 1/(1+np.exp(-x))\n",
    "    return h_x\n",
    "    "
   ]
  },
  {
   "cell_type": "code",
   "execution_count": 60,
   "metadata": {},
   "outputs": [],
   "source": [
    "def computeCost(theta, X, Y):\n",
    "    m = np.size(Y)\n",
    "    J = 0;\n",
    "    J = (1/m) * np.sum((-Y * np.log(sigmoid(np.dot(X, theta))) - (1 - Y) * np.log(1 - sigmoid(np.dot(X, theta)))))\n",
    "    return J"
   ]
  },
  {
   "cell_type": "code",
   "execution_count": 61,
   "metadata": {},
   "outputs": [],
   "source": [
    "def gradientDescent(X, Y, theta, alpha, num_iters):\n",
    "    m = np.size(Y)\n",
    "    for iter in range(num_iters):\n",
    "        theta = theta - (alpha/m) * np.dot(X.T, (sigmoid(np.dot(X,theta)) - Y))\n",
    "    return theta"
   ]
  },
  {
   "cell_type": "code",
   "execution_count": 65,
   "metadata": {},
   "outputs": [],
   "source": [
    "def plotDecisionBoundary(theta, X, Y):\n",
    "    plotData(X, Y)\n",
    "\n",
    "    plot_x = [min(X[:,0])-2,  max(X[:,0])+2]\n",
    "    plot_y =[(-1/theta[2]) *(theta[1]*plot_x[0] + theta[0]), (-1/theta[2]) *(theta[1]*plot_x[1] + theta[0])]\n",
    "    plt.plot(plot_x, plot_y)\n",
    "    plt.plot(30, 100, 30, 100)\n",
    "    \n",
    "    plt.show()\n"
   ]
  },
  {
   "cell_type": "code",
   "execution_count": 66,
   "metadata": {},
   "outputs": [],
   "source": [
    "def predict(theta, X):\n",
    "    m = len(theta)\n",
    "    p = np.zeros((m, 1));\n",
    "    p = sigmoid(np.dot( X, theta)) >= 0.5\n",
    "    return p"
   ]
  },
  {
   "cell_type": "code",
   "execution_count": 67,
   "metadata": {
    "scrolled": true
   },
   "outputs": [
    {
     "name": "stdout",
     "output_type": "stream",
     "text": [
      "0.6931471805599453\n",
      "[[-41.02122367]\n",
      " [  0.33647107]\n",
      " [  0.30745426]]\n"
     ]
    },
    {
     "data": {
      "image/png": "[encoded data removed]",
      "text/plain": [
       "<Figure size 432x288 with 1 Axes>"
      ]
     },
     "metadata": {
      "needs_background": "light"
     },
     "output_type": "display_data"
    },
    {
     "name": "stdout",
     "output_type": "stream",
     "text": [
      "Accuracy:  88.0\n"
     ]
    }
   ],
   "source": [
    "theta = np.zeros([3,1])\n",
    "\n",
    "num_iters = 65000\n",
    "alpha = 0.01\n",
    "\n",
    "J = computeCost(theta, X_padded, Y)\n",
    "\n",
    "theta = gradientDescent(X_padded, Y, theta, alpha, num_iters)\n",
    "\n",
    "print(J)\n",
    "print(theta)\n",
    "\n",
    "plotDecisionBoundary(theta, X, Y)\n",
    "\n",
    "p = predict(theta, X_padded)\n",
    "\n",
    "print(\"Accuracy: \", np.mean((p == Y)) * 100)\n"
   ]
  },
  {
   "cell_type": "code",
   "execution_count": null,
   "metadata": {},
   "outputs": [],
   "source": []
  },
  {
   "cell_type": "code",
   "execution_count": null,
   "metadata": {},
   "outputs": [],
   "source": []
  }
 ],
 "metadata": {
  "kernelspec": {
   "display_name": "Python 3",
   "language": "python",
   "name": "python3"
  },
  "language_info": {
   "codemirror_mode": {
    "name": "ipython",
    "version": 3
   },
   "file_extension": ".py",
   "mimetype": "text/x-python",
   "name": "python",
   "nbconvert_exporter": "python",
   "pygments_lexer": "ipython3",
   "version": "3.8.5"
  }
 },
 "nbformat": 4,
 "nbformat_minor": 4
}
